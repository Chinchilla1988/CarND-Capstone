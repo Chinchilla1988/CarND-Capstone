{
 "cells": [
  {
   "cell_type": "markdown",
   "metadata": {},
   "source": [
    "# Traffic light datasets"
   ]
  },
  {
   "cell_type": "markdown",
   "metadata": {},
   "source": [
    "Collecting data, display, analysis, generator"
   ]
  },
  {
   "cell_type": "code",
   "execution_count": null,
   "metadata": {},
   "outputs": [],
   "source": [
    "import os\n",
    "import sys\n",
    "import yaml\n",
    "import cv2\n",
    "import matplotlib.pyplot as plt\n",
    "import numpy as np\n",
    "\n",
    "import sys\n",
    "nb_dir = os.getcwd() + \"/python\"\n",
    "if nb_dir not in sys.path:\n",
    "    sys.path.append(nb_dir)"
   ]
  },
  {
   "cell_type": "markdown",
   "metadata": {},
   "source": [
    "Bosch Dataset:\n",
    "https://hci.iwr.uni-heidelberg.de/node/6132\n",
    "\n",
    "\n",
    "This link will be accessible until Tue, 03/20/2018 - 06:13\n",
    "https://hci.iwr.uni-heidelberg.de/node/6132/download/8b514c740692365f4f43c5174f1a7026\n",
    "\n",
    "load data and display some examples"
   ]
  },
  {
   "cell_type": "code",
   "execution_count": null,
   "metadata": {},
   "outputs": [],
   "source": [
    "data_path = \"data/bosch_data/\"\n",
    "yaml_train = data_path + \"train.yaml\"\n",
    "images = yaml.load(open(yaml_train, 'rb').read())\n",
    "yaml.dump(images[:3], stream=sys.stdout)"
   ]
  },
  {
   "cell_type": "code",
   "execution_count": null,
   "metadata": {},
   "outputs": [],
   "source": [
    "from dataset_stats import quick_stats\n",
    "\n",
    "quick_stats(yaml_train)"
   ]
  },
  {
   "cell_type": "code",
   "execution_count": null,
   "metadata": {},
   "outputs": [],
   "source": [
    "def visualize1image(im1, name=\"Image1\", figsize=(20, 10)):\n",
    "    fontsize = 20\n",
    "    f, (ax1) = plt.subplots(1, 1, figsize=figsize)\n",
    "    \n",
    "    if im1 != np.array([]): \n",
    "        ax1.imshow(im1)\n",
    "        \n",
    "    ax1.set_title(name, fontsize=fontsize)\n",
    "    ax1.shape = (30, 50)\n",
    "    plt.show()"
   ]
  },
  {
   "cell_type": "code",
   "execution_count": null,
   "metadata": {},
   "outputs": [],
   "source": [
    "image_list = [images[3], images[133], images[30]]\n",
    "\n",
    "for i, image_dict in enumerate(image_list):\n",
    "    image_path = image_dict['path']\n",
    "    path = data_path + image_path[2:]\n",
    "    image = cv2.imread(path)\n",
    "    print(i,path)\n",
    "    if image is None:\n",
    "        raise IOError('Could not open image path', image_dict['path'])\n",
    "\n",
    "    for box in image_dict['boxes']:\n",
    "        cv2.rectangle(image,\n",
    "                      (int(box['x_min']), int(box['y_min'])),\n",
    "                      (int(box['x_max']), int(box['y_max'])),\n",
    "                      (0, 255, 0),10)\n",
    "        label = box['label']\n",
    "        occluded = box['occluded']\n",
    "        print(\"traffic light\",label)\n",
    "        print(\"occluded\", occluded)\n",
    "\n",
    "    plt.figure()\n",
    "    plt.imshow(image)\n",
    "    # visualize1image(image,i)\n",
    "    # plt.imshow(image,shape=(50,80))\n",
    "    cv2.imshow('labeled_image', image)\n",
    "    cv2.waitKey(1000)\n",
    "\n",
    "cv2.destroyAllWindows() "
   ]
  },
  {
   "cell_type": "code",
   "execution_count": null,
   "metadata": {},
   "outputs": [],
   "source": [
    "# loads and parses the dataset, can be expanded to include other datasets and augmentation\n",
    "import generator as gs\n",
    "reload(gs)\n",
    "train_generator = gs.generator(batch_size = 4, gen_type = \"train\")\n",
    "\n",
    "# next pull a couple of samples out of the generator and display the images and labels"
   ]
  },
  {
   "cell_type": "code",
   "execution_count": null,
   "metadata": {
    "scrolled": false
   },
   "outputs": [],
   "source": [
    "display = True\n",
    "\n",
    "if display:\n",
    "    images, labels = next(train_generator.stream())\n",
    "\n",
    "    hm = 3\n",
    "    for im, la in zip(images[:hm], labels[:hm]):\n",
    "\n",
    "        print(\"img size = \", im.shape)\n",
    "        for l in la:\n",
    "            print(l)\n",
    "            label = l[0]\n",
    "            pos = l[1]\n",
    "            cv2.rectangle(im, \n",
    "                          (int(pos[0]), int(pos[1])),\n",
    "                          (int(pos[2]), int(pos[3])),\n",
    "                          (0, 255, 0), \n",
    "                          10)\n",
    "            \n",
    "        visualize1image(im, name=\"image\")"
   ]
  },
  {
   "cell_type": "code",
   "execution_count": null,
   "metadata": {},
   "outputs": [],
   "source": []
  },
  {
   "cell_type": "code",
   "execution_count": null,
   "metadata": {},
   "outputs": [],
   "source": []
  }
 ],
 "metadata": {
  "kernelspec": {
   "display_name": "Python 2",
   "language": "python",
   "name": "python2"
  },
  "language_info": {
   "codemirror_mode": {
    "name": "ipython",
    "version": 2
   },
   "file_extension": ".py",
   "mimetype": "text/x-python",
   "name": "python",
   "nbconvert_exporter": "python",
   "pygments_lexer": "ipython2",
   "version": "2.7.12"
  }
 },
 "nbformat": 4,
 "nbformat_minor": 2
}
