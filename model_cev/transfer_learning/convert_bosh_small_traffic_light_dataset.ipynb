{
 "cells": [
  {
   "cell_type": "code",
   "execution_count": null,
   "metadata": {
    "collapsed": true
   },
   "outputs": [],
   "source": [
    "import tensorflow as tf\n",
    "import yaml\n",
    "import os\n",
    "import sys\n",
    "from tqdm import trange\n",
    "\n",
    "# This is needed since the notebook is stored in the object_detection folder.\n",
    "sys.path.append(\"..\")\n",
    "from object_detection.utils import dataset_util"
   ]
  },
  {
   "cell_type": "code",
   "execution_count": null,
   "metadata": {},
   "outputs": [],
   "source": [
    "LABELS =  {\n",
    "    \"Green\" : 1,\n",
    "    \"GreenStraight\" : 2,\n",
    "    \"GreenStraightLeft\" : 3,\n",
    "    \"GreenStraightRight\" : 4,\n",
    "    \"GreenLeft\" : 5,\n",
    "    \"GreenRight\" : 6,\n",
    "    \"Yellow\" : 7,\n",
    "    \"Red\" : 8,\n",
    "    \"RedStraight\" : 9,\n",
    "    \"RedStraightLeft\" : 10,\n",
    "    \"RedStraightRight\" : 11,\n",
    "    \"RedLeft\" : 12,\n",
    "    \"RedRight\" : 13,\n",
    "    \"off\" : 14\n",
    "}"
   ]
  },
  {
   "cell_type": "code",
   "execution_count": null,
   "metadata": {
    "collapsed": true
   },
   "outputs": [],
   "source": [
    "def create_tf_example(example):\n",
    "    height = 720\n",
    "    width = 1280\n",
    "    filename = example['file_name'].encode()\n",
    "    encoded_image = tf.gfile.GFile(example['abs_path'], 'rb').read()\n",
    "    image_format = b'png'\n",
    "\n",
    "    xmins = []        # List of normalized left x coordinates in bounding box (1 per box)\n",
    "    xmaxs = []        # List of normalized right x coordinates in bounding box (1 per box)\n",
    "    ymins = []        # List of normalized top y coordinates in bounding box (1 per box)\n",
    "    ymaxs = []        # List of normalized bottom y coordinates in bounding box (1 per box)\n",
    "    classes_text = [] # List of string class name of bounding box (1 per box)\n",
    "    classes = []      # List of integer class id of bounding box (1 per box)\n",
    "\n",
    "    for box in example['boxes']:\n",
    "        xmins.append(box['x_min'] / width)\n",
    "        xmaxs.append(box['x_max'] / width)\n",
    "        ymins.append(box['y_min'] / height)\n",
    "        ymaxs.append(box['y_max'] / height)\n",
    "        classes_text.append(box['label'].encode())\n",
    "        classes.append(LABELS[box['label']])\n",
    "\n",
    "    tf_example = tf.train.Example(features=tf.train.Features(feature={\n",
    "        'image/height': dataset_util.int64_feature(height),\n",
    "        'image/width': dataset_util.int64_feature(width),\n",
    "        'image/filename': dataset_util.bytes_feature(filename),\n",
    "        'image/source_id': dataset_util.bytes_feature(filename),\n",
    "        'image/encoded': dataset_util.bytes_feature(encoded_image),\n",
    "        'image/format': dataset_util.bytes_feature(image_format),\n",
    "        'image/object/bbox/xmin': dataset_util.float_list_feature(xmins),\n",
    "        'image/object/bbox/xmax': dataset_util.float_list_feature(xmaxs),\n",
    "        'image/object/bbox/ymin': dataset_util.float_list_feature(ymins),\n",
    "        'image/object/bbox/ymax': dataset_util.float_list_feature(ymaxs),\n",
    "        'image/object/class/text': dataset_util.bytes_list_feature(classes_text),\n",
    "        'image/object/class/label': dataset_util.int64_list_feature(classes),\n",
    "    }))\n",
    "\n",
    "    return tf_example"
   ]
  },
  {
   "cell_type": "code",
   "execution_count": null,
   "metadata": {},
   "outputs": [],
   "source": [
    "DIRECTORY = \"/home/apc/projects/bosh_small_traffic_lights_dataset\"\n",
    "\n",
    "TRAIN_YAML = \"train.yaml\"\n",
    "TRAIN_OUTPUT = \"train.tfrecord\"\n",
    "\n",
    "TEST_YAML = \"test.yaml\"\n",
    "TEST_DIRECTORY = 'rgb/test'\n",
    "TEST_OUTPUT = \"test.tfrecord\""
   ]
  },
  {
   "cell_type": "code",
   "execution_count": null,
   "metadata": {},
   "outputs": [],
   "source": [
    "train_yaml_path = os.path.join(DIRECTORY, TRAIN_YAML)\n",
    "train_data = yaml.load(open(train_yaml_path, 'rb').read())"
   ]
  },
  {
   "cell_type": "code",
   "execution_count": null,
   "metadata": {},
   "outputs": [],
   "source": [
    "for i in trange(len(train_data)):\n",
    "    relative_path = train_data[i]['path']\n",
    "    _, file_name = os.path.split(relative_path)\n",
    "    train_data[i]['abs_path'] = os.path.join(DIRECTORY, relative_path)\n",
    "    train_data[i]['file_name'] = file_name"
   ]
  },
  {
   "cell_type": "code",
   "execution_count": null,
   "metadata": {},
   "outputs": [],
   "source": [
    "output_path = os.path.join(DIRECTORY, TRAIN_OUTPUT)\n",
    "train_writer = tf.python_io.TFRecordWriter(output_path)\n",
    "\n",
    "for i in trange(len(train_data)):\n",
    "    tf_example = create_tf_example(train_data[i])\n",
    "    train_writer.write(tf_example.SerializeToString())\n",
    "\n",
    "train_writer.close()"
   ]
  },
  {
   "cell_type": "code",
   "execution_count": null,
   "metadata": {
    "collapsed": true
   },
   "outputs": [],
   "source": [
    "test_yaml_path = os.path.join(DIRECTORY, TEST_YAML)\n",
    "test_data = yaml.load(open(test_yaml_path, 'rb').read())"
   ]
  },
  {
   "cell_type": "code",
   "execution_count": null,
   "metadata": {},
   "outputs": [],
   "source": [
    "for i in trange(len(test_data)):\n",
    "    relative_path = test_data[i]['path']\n",
    "    _, file_name = os.path.split(relative_path)\n",
    "    test_data[i]['abs_path'] = os.path.join(DIRECTORY, TEST_DIRECTORY, file_name)\n",
    "    test_data[i]['file_name'] = file_name"
   ]
  },
  {
   "cell_type": "code",
   "execution_count": null,
   "metadata": {},
   "outputs": [],
   "source": [
    "test_output_path = os.path.join(DIRECTORY, TEST_OUTPUT)\n",
    "test_writer = tf.python_io.TFRecordWriter(test_output_path)\n",
    "\n",
    "for i in trange(len(test_data)):\n",
    "    tf_example = create_tf_example(test_data[i])\n",
    "    test_writer.write(tf_example.SerializeToString())\n",
    "\n",
    "test_writer.close()"
   ]
  },
  {
   "cell_type": "code",
   "execution_count": null,
   "metadata": {
    "collapsed": true
   },
   "outputs": [],
   "source": []
  }
 ],
 "metadata": {
  "kernelspec": {
   "display_name": "Python 3",
   "language": "python",
   "name": "python3"
  },
  "language_info": {
   "codemirror_mode": {
    "name": "ipython",
    "version": 3
   },
   "file_extension": ".py",
   "mimetype": "text/x-python",
   "name": "python",
   "nbconvert_exporter": "python",
   "pygments_lexer": "ipython3",
   "version": "3.5.4"
  }
 },
 "nbformat": 4,
 "nbformat_minor": 2
}
